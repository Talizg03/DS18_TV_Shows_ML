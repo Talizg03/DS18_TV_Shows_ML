{
  "nbformat": 4,
  "nbformat_minor": 0,
  "metadata": {
    "colab": {
      "provenance": []
    },
    "kernelspec": {
      "name": "python3",
      "display_name": "Python 3"
    },
    "language_info": {
      "name": "python"
    }
  },
  "cells": [
    {
      "cell_type": "markdown",
      "source": [
        "# **Full TMDb TV Shows Dataset 2024 (150K Shows)**\n",
        "# **Research Question:**\n",
        "#How can genres, languages, and other factors predict the popularity of TV shows?\"\n"
      ],
      "metadata": {
        "id": "m51Hpu6CtZ5h"
      }
    },
    {
      "cell_type": "code",
      "execution_count": null,
      "metadata": {
        "id": "TtCYqKoiPn-Z"
      },
      "outputs": [],
      "source": [
        "import matplotlib as plt\n",
        "%matplotlib inline\n",
        "import pandas as pd\n",
        "import numpy as np\n",
        "import seaborn as sb\n",
        "import warnings\n",
        "\n",
        "# Ignore warnings\n",
        "warnings.filterwarnings('ignore')"
      ]
    },
    {
      "cell_type": "markdown",
      "metadata": {
        "id": "w2lXkhUen8zR"
      },
      "source": [
        "# **Inspect the Data**"
      ]
    },
    {
      "cell_type": "code",
      "execution_count": null,
      "metadata": {
        "colab": {
          "base_uri": "https://localhost:8080/",
          "height": 741
        },
        "id": "F_nCQR9pQ4xO",
        "outputId": "5a119133-1543-4233-bd43-095f815a7ee2"
      },
      "outputs": [
        {
          "output_type": "execute_result",
          "data": {
            "text/plain": [
              "      id              name  number_of_seasons  number_of_episodes  \\\n",
              "0   1399   Game of Thrones                  8                  73   \n",
              "1  71446       Money Heist                  3                  41   \n",
              "2  66732   Stranger Things                  4                  34   \n",
              "3   1402  The Walking Dead                 11                 177   \n",
              "4  63174           Lucifer                  6                  93   \n",
              "\n",
              "  original_language  vote_count  vote_average  \\\n",
              "0                en       21857         8.442   \n",
              "1                es       17836         8.257   \n",
              "2                en       16161         8.624   \n",
              "3                en       15432         8.121   \n",
              "4                en       13870         8.486   \n",
              "\n",
              "                                            overview  adult  \\\n",
              "0  Seven noble families fight for control of the ...  False   \n",
              "1  To carry out the biggest heist in history, a m...  False   \n",
              "2  When a young boy vanishes, a small town uncove...  False   \n",
              "3  Sheriff's deputy Rick Grimes awakens from a co...  False   \n",
              "4  Bored and unhappy as the Lord of Hell, Lucifer...  False   \n",
              "\n",
              "                      backdrop_path  ...                           tagline  \\\n",
              "0   /2OMB0ynKlyIenMJWI2Dy9IWT4c.jpg  ...                  Winter Is Coming   \n",
              "1  /gFZriCkpJYsApPZEF3jhxL4yLzG.jpg  ...              The perfect robbery.   \n",
              "2  /2MaumbgBlW1NoPo3ZJO38A6v7OS.jpg  ...     Every ending has a beginning.   \n",
              "3  /x4salpjB11umlUOltfNvSSrjSXm.jpg  ...  Fight the dead. Fear the living.   \n",
              "4  /aDBRtunw49UF4XmqfyNuD9nlYIu.jpg  ...              It's good to be bad.   \n",
              "\n",
              "                                        genres                 created_by  \\\n",
              "0  Sci-Fi & Fantasy, Drama, Action & Adventure  David Benioff, D.B. Weiss   \n",
              "1                                 Crime, Drama                  Álex Pina   \n",
              "2             Drama, Sci-Fi & Fantasy, Mystery   Matt Duffer, Ross Duffer   \n",
              "3  Action & Adventure, Drama, Sci-Fi & Fantasy             Frank Darabont   \n",
              "4                      Crime, Sci-Fi & Fantasy                Tom Kapinos   \n",
              "\n",
              "   languages           networks  origin_country spoken_languages  \\\n",
              "0         en                HBO              US          English   \n",
              "1         es  Netflix, Antena 3              ES          Español   \n",
              "2         en            Netflix              US          English   \n",
              "3         en                AMC              US          English   \n",
              "4         en       FOX, Netflix              US          English   \n",
              "\n",
              "                                production_companies  \\\n",
              "0  Revolution Sun Studios, Television 360, Genera...   \n",
              "1                                    Vancouver Media   \n",
              "2  21 Laps Entertainment, Monkey Massacre Product...   \n",
              "3  AMC Studios, Circle of Confusion, Valhalla Mot...   \n",
              "4  Warner Bros. Television, DC Entertainment, Jer...   \n",
              "\n",
              "                       production_countries episode_run_time  \n",
              "0  United Kingdom, United States of America                0  \n",
              "1                                     Spain               70  \n",
              "2                  United States of America                0  \n",
              "3                  United States of America               42  \n",
              "4                  United States of America               45  \n",
              "\n",
              "[5 rows x 29 columns]"
            ],
            "text/html": [
              "\n",
              "  <div id=\"df-ff724d34-7049-4ed0-9229-9dd9b2ec5fdd\" class=\"colab-df-container\">\n",
              "    <div>\n",
              "<style scoped>\n",
              "    .dataframe tbody tr th:only-of-type {\n",
              "        vertical-align: middle;\n",
              "    }\n",
              "\n",
              "    .dataframe tbody tr th {\n",
              "        vertical-align: top;\n",
              "    }\n",
              "\n",
              "    .dataframe thead th {\n",
              "        text-align: right;\n",
              "    }\n",
              "</style>\n",
              "<table border=\"1\" class=\"dataframe\">\n",
              "  <thead>\n",
              "    <tr style=\"text-align: right;\">\n",
              "      <th></th>\n",
              "      <th>id</th>\n",
              "      <th>name</th>\n",
              "      <th>number_of_seasons</th>\n",
              "      <th>number_of_episodes</th>\n",
              "      <th>original_language</th>\n",
              "      <th>vote_count</th>\n",
              "      <th>vote_average</th>\n",
              "      <th>overview</th>\n",
              "      <th>adult</th>\n",
              "      <th>backdrop_path</th>\n",
              "      <th>...</th>\n",
              "      <th>tagline</th>\n",
              "      <th>genres</th>\n",
              "      <th>created_by</th>\n",
              "      <th>languages</th>\n",
              "      <th>networks</th>\n",
              "      <th>origin_country</th>\n",
              "      <th>spoken_languages</th>\n",
              "      <th>production_companies</th>\n",
              "      <th>production_countries</th>\n",
              "      <th>episode_run_time</th>\n",
              "    </tr>\n",
              "  </thead>\n",
              "  <tbody>\n",
              "    <tr>\n",
              "      <th>0</th>\n",
              "      <td>1399</td>\n",
              "      <td>Game of Thrones</td>\n",
              "      <td>8</td>\n",
              "      <td>73</td>\n",
              "      <td>en</td>\n",
              "      <td>21857</td>\n",
              "      <td>8.442</td>\n",
              "      <td>Seven noble families fight for control of the ...</td>\n",
              "      <td>False</td>\n",
              "      <td>/2OMB0ynKlyIenMJWI2Dy9IWT4c.jpg</td>\n",
              "      <td>...</td>\n",
              "      <td>Winter Is Coming</td>\n",
              "      <td>Sci-Fi &amp; Fantasy, Drama, Action &amp; Adventure</td>\n",
              "      <td>David Benioff, D.B. Weiss</td>\n",
              "      <td>en</td>\n",
              "      <td>HBO</td>\n",
              "      <td>US</td>\n",
              "      <td>English</td>\n",
              "      <td>Revolution Sun Studios, Television 360, Genera...</td>\n",
              "      <td>United Kingdom, United States of America</td>\n",
              "      <td>0</td>\n",
              "    </tr>\n",
              "    <tr>\n",
              "      <th>1</th>\n",
              "      <td>71446</td>\n",
              "      <td>Money Heist</td>\n",
              "      <td>3</td>\n",
              "      <td>41</td>\n",
              "      <td>es</td>\n",
              "      <td>17836</td>\n",
              "      <td>8.257</td>\n",
              "      <td>To carry out the biggest heist in history, a m...</td>\n",
              "      <td>False</td>\n",
              "      <td>/gFZriCkpJYsApPZEF3jhxL4yLzG.jpg</td>\n",
              "      <td>...</td>\n",
              "      <td>The perfect robbery.</td>\n",
              "      <td>Crime, Drama</td>\n",
              "      <td>Álex Pina</td>\n",
              "      <td>es</td>\n",
              "      <td>Netflix, Antena 3</td>\n",
              "      <td>ES</td>\n",
              "      <td>Español</td>\n",
              "      <td>Vancouver Media</td>\n",
              "      <td>Spain</td>\n",
              "      <td>70</td>\n",
              "    </tr>\n",
              "    <tr>\n",
              "      <th>2</th>\n",
              "      <td>66732</td>\n",
              "      <td>Stranger Things</td>\n",
              "      <td>4</td>\n",
              "      <td>34</td>\n",
              "      <td>en</td>\n",
              "      <td>16161</td>\n",
              "      <td>8.624</td>\n",
              "      <td>When a young boy vanishes, a small town uncove...</td>\n",
              "      <td>False</td>\n",
              "      <td>/2MaumbgBlW1NoPo3ZJO38A6v7OS.jpg</td>\n",
              "      <td>...</td>\n",
              "      <td>Every ending has a beginning.</td>\n",
              "      <td>Drama, Sci-Fi &amp; Fantasy, Mystery</td>\n",
              "      <td>Matt Duffer, Ross Duffer</td>\n",
              "      <td>en</td>\n",
              "      <td>Netflix</td>\n",
              "      <td>US</td>\n",
              "      <td>English</td>\n",
              "      <td>21 Laps Entertainment, Monkey Massacre Product...</td>\n",
              "      <td>United States of America</td>\n",
              "      <td>0</td>\n",
              "    </tr>\n",
              "    <tr>\n",
              "      <th>3</th>\n",
              "      <td>1402</td>\n",
              "      <td>The Walking Dead</td>\n",
              "      <td>11</td>\n",
              "      <td>177</td>\n",
              "      <td>en</td>\n",
              "      <td>15432</td>\n",
              "      <td>8.121</td>\n",
              "      <td>Sheriff's deputy Rick Grimes awakens from a co...</td>\n",
              "      <td>False</td>\n",
              "      <td>/x4salpjB11umlUOltfNvSSrjSXm.jpg</td>\n",
              "      <td>...</td>\n",
              "      <td>Fight the dead. Fear the living.</td>\n",
              "      <td>Action &amp; Adventure, Drama, Sci-Fi &amp; Fantasy</td>\n",
              "      <td>Frank Darabont</td>\n",
              "      <td>en</td>\n",
              "      <td>AMC</td>\n",
              "      <td>US</td>\n",
              "      <td>English</td>\n",
              "      <td>AMC Studios, Circle of Confusion, Valhalla Mot...</td>\n",
              "      <td>United States of America</td>\n",
              "      <td>42</td>\n",
              "    </tr>\n",
              "    <tr>\n",
              "      <th>4</th>\n",
              "      <td>63174</td>\n",
              "      <td>Lucifer</td>\n",
              "      <td>6</td>\n",
              "      <td>93</td>\n",
              "      <td>en</td>\n",
              "      <td>13870</td>\n",
              "      <td>8.486</td>\n",
              "      <td>Bored and unhappy as the Lord of Hell, Lucifer...</td>\n",
              "      <td>False</td>\n",
              "      <td>/aDBRtunw49UF4XmqfyNuD9nlYIu.jpg</td>\n",
              "      <td>...</td>\n",
              "      <td>It's good to be bad.</td>\n",
              "      <td>Crime, Sci-Fi &amp; Fantasy</td>\n",
              "      <td>Tom Kapinos</td>\n",
              "      <td>en</td>\n",
              "      <td>FOX, Netflix</td>\n",
              "      <td>US</td>\n",
              "      <td>English</td>\n",
              "      <td>Warner Bros. Television, DC Entertainment, Jer...</td>\n",
              "      <td>United States of America</td>\n",
              "      <td>45</td>\n",
              "    </tr>\n",
              "  </tbody>\n",
              "</table>\n",
              "<p>5 rows × 29 columns</p>\n",
              "</div>\n",
              "    <div class=\"colab-df-buttons\">\n",
              "\n",
              "  <div class=\"colab-df-container\">\n",
              "    <button class=\"colab-df-convert\" onclick=\"convertToInteractive('df-ff724d34-7049-4ed0-9229-9dd9b2ec5fdd')\"\n",
              "            title=\"Convert this dataframe to an interactive table.\"\n",
              "            style=\"display:none;\">\n",
              "\n",
              "  <svg xmlns=\"http://www.w3.org/2000/svg\" height=\"24px\" viewBox=\"0 -960 960 960\">\n",
              "    <path d=\"M120-120v-720h720v720H120Zm60-500h600v-160H180v160Zm220 220h160v-160H400v160Zm0 220h160v-160H400v160ZM180-400h160v-160H180v160Zm440 0h160v-160H620v160ZM180-180h160v-160H180v160Zm440 0h160v-160H620v160Z\"/>\n",
              "  </svg>\n",
              "    </button>\n",
              "\n",
              "  <style>\n",
              "    .colab-df-container {\n",
              "      display:flex;\n",
              "      gap: 12px;\n",
              "    }\n",
              "\n",
              "    .colab-df-convert {\n",
              "      background-color: #E8F0FE;\n",
              "      border: none;\n",
              "      border-radius: 50%;\n",
              "      cursor: pointer;\n",
              "      display: none;\n",
              "      fill: #1967D2;\n",
              "      height: 32px;\n",
              "      padding: 0 0 0 0;\n",
              "      width: 32px;\n",
              "    }\n",
              "\n",
              "    .colab-df-convert:hover {\n",
              "      background-color: #E2EBFA;\n",
              "      box-shadow: 0px 1px 2px rgba(60, 64, 67, 0.3), 0px 1px 3px 1px rgba(60, 64, 67, 0.15);\n",
              "      fill: #174EA6;\n",
              "    }\n",
              "\n",
              "    .colab-df-buttons div {\n",
              "      margin-bottom: 4px;\n",
              "    }\n",
              "\n",
              "    [theme=dark] .colab-df-convert {\n",
              "      background-color: #3B4455;\n",
              "      fill: #D2E3FC;\n",
              "    }\n",
              "\n",
              "    [theme=dark] .colab-df-convert:hover {\n",
              "      background-color: #434B5C;\n",
              "      box-shadow: 0px 1px 3px 1px rgba(0, 0, 0, 0.15);\n",
              "      filter: drop-shadow(0px 1px 2px rgba(0, 0, 0, 0.3));\n",
              "      fill: #FFFFFF;\n",
              "    }\n",
              "  </style>\n",
              "\n",
              "    <script>\n",
              "      const buttonEl =\n",
              "        document.querySelector('#df-ff724d34-7049-4ed0-9229-9dd9b2ec5fdd button.colab-df-convert');\n",
              "      buttonEl.style.display =\n",
              "        google.colab.kernel.accessAllowed ? 'block' : 'none';\n",
              "\n",
              "      async function convertToInteractive(key) {\n",
              "        const element = document.querySelector('#df-ff724d34-7049-4ed0-9229-9dd9b2ec5fdd');\n",
              "        const dataTable =\n",
              "          await google.colab.kernel.invokeFunction('convertToInteractive',\n",
              "                                                    [key], {});\n",
              "        if (!dataTable) return;\n",
              "\n",
              "        const docLinkHtml = 'Like what you see? Visit the ' +\n",
              "          '<a target=\"_blank\" href=https://colab.research.google.com/notebooks/data_table.ipynb>data table notebook</a>'\n",
              "          + ' to learn more about interactive tables.';\n",
              "        element.innerHTML = '';\n",
              "        dataTable['output_type'] = 'display_data';\n",
              "        await google.colab.output.renderOutput(dataTable, element);\n",
              "        const docLink = document.createElement('div');\n",
              "        docLink.innerHTML = docLinkHtml;\n",
              "        element.appendChild(docLink);\n",
              "      }\n",
              "    </script>\n",
              "  </div>\n",
              "\n",
              "\n",
              "<div id=\"df-27e5cabd-dd56-491a-9f56-90fec77805c6\">\n",
              "  <button class=\"colab-df-quickchart\" onclick=\"quickchart('df-27e5cabd-dd56-491a-9f56-90fec77805c6')\"\n",
              "            title=\"Suggest charts\"\n",
              "            style=\"display:none;\">\n",
              "\n",
              "<svg xmlns=\"http://www.w3.org/2000/svg\" height=\"24px\"viewBox=\"0 0 24 24\"\n",
              "     width=\"24px\">\n",
              "    <g>\n",
              "        <path d=\"M19 3H5c-1.1 0-2 .9-2 2v14c0 1.1.9 2 2 2h14c1.1 0 2-.9 2-2V5c0-1.1-.9-2-2-2zM9 17H7v-7h2v7zm4 0h-2V7h2v10zm4 0h-2v-4h2v4z\"/>\n",
              "    </g>\n",
              "</svg>\n",
              "  </button>\n",
              "\n",
              "<style>\n",
              "  .colab-df-quickchart {\n",
              "      --bg-color: #E8F0FE;\n",
              "      --fill-color: #1967D2;\n",
              "      --hover-bg-color: #E2EBFA;\n",
              "      --hover-fill-color: #174EA6;\n",
              "      --disabled-fill-color: #AAA;\n",
              "      --disabled-bg-color: #DDD;\n",
              "  }\n",
              "\n",
              "  [theme=dark] .colab-df-quickchart {\n",
              "      --bg-color: #3B4455;\n",
              "      --fill-color: #D2E3FC;\n",
              "      --hover-bg-color: #434B5C;\n",
              "      --hover-fill-color: #FFFFFF;\n",
              "      --disabled-bg-color: #3B4455;\n",
              "      --disabled-fill-color: #666;\n",
              "  }\n",
              "\n",
              "  .colab-df-quickchart {\n",
              "    background-color: var(--bg-color);\n",
              "    border: none;\n",
              "    border-radius: 50%;\n",
              "    cursor: pointer;\n",
              "    display: none;\n",
              "    fill: var(--fill-color);\n",
              "    height: 32px;\n",
              "    padding: 0;\n",
              "    width: 32px;\n",
              "  }\n",
              "\n",
              "  .colab-df-quickchart:hover {\n",
              "    background-color: var(--hover-bg-color);\n",
              "    box-shadow: 0 1px 2px rgba(60, 64, 67, 0.3), 0 1px 3px 1px rgba(60, 64, 67, 0.15);\n",
              "    fill: var(--button-hover-fill-color);\n",
              "  }\n",
              "\n",
              "  .colab-df-quickchart-complete:disabled,\n",
              "  .colab-df-quickchart-complete:disabled:hover {\n",
              "    background-color: var(--disabled-bg-color);\n",
              "    fill: var(--disabled-fill-color);\n",
              "    box-shadow: none;\n",
              "  }\n",
              "\n",
              "  .colab-df-spinner {\n",
              "    border: 2px solid var(--fill-color);\n",
              "    border-color: transparent;\n",
              "    border-bottom-color: var(--fill-color);\n",
              "    animation:\n",
              "      spin 1s steps(1) infinite;\n",
              "  }\n",
              "\n",
              "  @keyframes spin {\n",
              "    0% {\n",
              "      border-color: transparent;\n",
              "      border-bottom-color: var(--fill-color);\n",
              "      border-left-color: var(--fill-color);\n",
              "    }\n",
              "    20% {\n",
              "      border-color: transparent;\n",
              "      border-left-color: var(--fill-color);\n",
              "      border-top-color: var(--fill-color);\n",
              "    }\n",
              "    30% {\n",
              "      border-color: transparent;\n",
              "      border-left-color: var(--fill-color);\n",
              "      border-top-color: var(--fill-color);\n",
              "      border-right-color: var(--fill-color);\n",
              "    }\n",
              "    40% {\n",
              "      border-color: transparent;\n",
              "      border-right-color: var(--fill-color);\n",
              "      border-top-color: var(--fill-color);\n",
              "    }\n",
              "    60% {\n",
              "      border-color: transparent;\n",
              "      border-right-color: var(--fill-color);\n",
              "    }\n",
              "    80% {\n",
              "      border-color: transparent;\n",
              "      border-right-color: var(--fill-color);\n",
              "      border-bottom-color: var(--fill-color);\n",
              "    }\n",
              "    90% {\n",
              "      border-color: transparent;\n",
              "      border-bottom-color: var(--fill-color);\n",
              "    }\n",
              "  }\n",
              "</style>\n",
              "\n",
              "  <script>\n",
              "    async function quickchart(key) {\n",
              "      const quickchartButtonEl =\n",
              "        document.querySelector('#' + key + ' button');\n",
              "      quickchartButtonEl.disabled = true;  // To prevent multiple clicks.\n",
              "      quickchartButtonEl.classList.add('colab-df-spinner');\n",
              "      try {\n",
              "        const charts = await google.colab.kernel.invokeFunction(\n",
              "            'suggestCharts', [key], {});\n",
              "      } catch (error) {\n",
              "        console.error('Error during call to suggestCharts:', error);\n",
              "      }\n",
              "      quickchartButtonEl.classList.remove('colab-df-spinner');\n",
              "      quickchartButtonEl.classList.add('colab-df-quickchart-complete');\n",
              "    }\n",
              "    (() => {\n",
              "      let quickchartButtonEl =\n",
              "        document.querySelector('#df-27e5cabd-dd56-491a-9f56-90fec77805c6 button');\n",
              "      quickchartButtonEl.style.display =\n",
              "        google.colab.kernel.accessAllowed ? 'block' : 'none';\n",
              "    })();\n",
              "  </script>\n",
              "</div>\n",
              "\n",
              "    </div>\n",
              "  </div>\n"
            ],
            "application/vnd.google.colaboratory.intrinsic+json": {
              "type": "dataframe",
              "variable_name": "df"
            }
          },
          "metadata": {},
          "execution_count": 83
        }
      ],
      "source": [
        "df = pd.read_csv('tv_dataset.csv')\n",
        "df.head()"
      ]
    },
    {
      "cell_type": "code",
      "source": [
        "df.info()"
      ],
      "metadata": {
        "colab": {
          "base_uri": "https://localhost:8080/"
        },
        "id": "AQfQoyvQpTdQ",
        "outputId": "15fb319e-ec4a-4492-e3ed-904d238488fe"
      },
      "execution_count": null,
      "outputs": [
        {
          "output_type": "stream",
          "name": "stdout",
          "text": [
            "<class 'pandas.core.frame.DataFrame'>\n",
            "RangeIndex: 168639 entries, 0 to 168638\n",
            "Data columns (total 29 columns):\n",
            " #   Column                Non-Null Count   Dtype  \n",
            "---  ------                --------------   -----  \n",
            " 0   id                    168639 non-null  int64  \n",
            " 1   name                  168634 non-null  object \n",
            " 2   number_of_seasons     168639 non-null  int64  \n",
            " 3   number_of_episodes    168639 non-null  int64  \n",
            " 4   original_language     168639 non-null  object \n",
            " 5   vote_count            168639 non-null  int64  \n",
            " 6   vote_average          168639 non-null  float64\n",
            " 7   overview              93333 non-null   object \n",
            " 8   adult                 168639 non-null  bool   \n",
            " 9   backdrop_path         77780 non-null   object \n",
            " 10  first_air_date        136903 non-null  object \n",
            " 11  last_air_date         138735 non-null  object \n",
            " 12  homepage              50998 non-null   object \n",
            " 13  in_production         168639 non-null  bool   \n",
            " 14  original_name         168634 non-null  object \n",
            " 15  popularity            168639 non-null  float64\n",
            " 16  poster_path           108737 non-null  object \n",
            " 17  type                  168639 non-null  object \n",
            " 18  status                168639 non-null  object \n",
            " 19  tagline               5330 non-null    object \n",
            " 20  genres                99713 non-null   object \n",
            " 21  created_by            36496 non-null   object \n",
            " 22  languages             110050 non-null  object \n",
            " 23  networks              97589 non-null   object \n",
            " 24  origin_country        137609 non-null  object \n",
            " 25  spoken_languages      109280 non-null  object \n",
            " 26  production_companies  59342 non-null   object \n",
            " 27  production_countries  77511 non-null   object \n",
            " 28  episode_run_time      168639 non-null  int64  \n",
            "dtypes: bool(2), float64(2), int64(5), object(20)\n",
            "memory usage: 35.1+ MB\n"
          ]
        }
      ]
    },
    {
      "cell_type": "code",
      "source": [
        "df.shape"
      ],
      "metadata": {
        "colab": {
          "base_uri": "https://localhost:8080/"
        },
        "id": "SVjxE_bdz2at",
        "outputId": "7918c5ac-5cff-4fad-b34e-8dea2b09ade4"
      },
      "execution_count": null,
      "outputs": [
        {
          "output_type": "execute_result",
          "data": {
            "text/plain": [
              "(168639, 29)"
            ]
          },
          "metadata": {},
          "execution_count": 85
        }
      ]
    },
    {
      "cell_type": "code",
      "source": [
        "# Check for duplicates based on the 'ID' column\n",
        "duplicates = df.duplicated(subset=['id'])\n",
        "\n",
        "# Display the boolean Series of duplicates (True means duplicate, False means unique)\n",
        "print(duplicates)\n",
        "\n",
        "# Count the number of duplicated IDs\n",
        "duplicate_count = duplicates.sum()\n",
        "print(f\"Total number of duplicated IDs: {duplicate_count}\")\n",
        "\n",
        "# Display the rows with duplicate IDs (excluding the first occurrence)\n",
        "duplicated_rows = df[df.duplicated(subset=['id'])]\n",
        "print(duplicated_rows)\n"
      ],
      "metadata": {
        "colab": {
          "base_uri": "https://localhost:8080/"
        },
        "id": "BMILQB9y2f8E",
        "outputId": "5121a991-ee53-4635-f440-869ecf38d0e8"
      },
      "execution_count": null,
      "outputs": [
        {
          "output_type": "stream",
          "name": "stdout",
          "text": [
            "0         False\n",
            "1         False\n",
            "2         False\n",
            "3         False\n",
            "4         False\n",
            "          ...  \n",
            "168634     True\n",
            "168635    False\n",
            "168636    False\n",
            "168637    False\n",
            "168638     True\n",
            "Length: 168639, dtype: bool\n",
            "Total number of duplicated IDs: 3934\n",
            "            id                             name  number_of_seasons  \\\n",
            "12010   237554                       Los Billis                  1   \n",
            "13747   237845       Garavito: La bestia serial                  1   \n",
            "13748   237727  La Hija de Dios: Dalma Maradona                  1   \n",
            "17241   237845       Garavito: La bestia serial                  1   \n",
            "17846   238234                  La hora marcada                  1   \n",
            "...        ...                              ...                ...   \n",
            "168627  238170                        Супермама                  6   \n",
            "168628  238171                          What ok                  1   \n",
            "168629  238172               Bear Video Theater                  1   \n",
            "168634  239099                         母乳酱想要喷出来                  1   \n",
            "168638  237566              Welcome to My World                  1   \n",
            "\n",
            "        number_of_episodes original_language  vote_count  vote_average  \\\n",
            "12010                    8                es          10          8.80   \n",
            "13747                    4                es           8          8.25   \n",
            "13748                    3                es           8          6.75   \n",
            "17241                    4                es           5          8.00   \n",
            "17846                    9                es           5          7.00   \n",
            "...                    ...               ...         ...           ...   \n",
            "168627                  78                uk           0          0.00   \n",
            "168628                   1                en           0          0.00   \n",
            "168629                  24                en           0          9.00   \n",
            "168634                   1                zh           0          0.00   \n",
            "168638                   5                en           0          0.00   \n",
            "\n",
            "                                                 overview  adult  \\\n",
            "12010   Inspired by real events, this series narrates ...  False   \n",
            "13747                                                 NaN  False   \n",
            "13748                                                 NaN  False   \n",
            "17241                                                 NaN  False   \n",
            "17846   The Marked Hour is an anthology series of horr...  False   \n",
            "...                                                   ...    ...   \n",
            "168627                                                NaN  False   \n",
            "168628      What ok what ok what ok hi what ok hi what ok  False   \n",
            "168629  Join legendary archer Fred Bear and fellow hun...  False   \n",
            "168634                                                NaN  False   \n",
            "168638                 Short-lives series on Youtube Red.  False   \n",
            "\n",
            "                           backdrop_path  ... tagline  \\\n",
            "12010   /x4wo96cQz2kok2tHukF1viO67Vr.jpg  ...     NaN   \n",
            "13747   /3X3a9kdi5CgGTmDqZJWH6YDq5AI.jpg  ...     NaN   \n",
            "13748   /1FMqX7ujJl31ML8MDzSCkGnOT5e.jpg  ...     NaN   \n",
            "17241   /3X3a9kdi5CgGTmDqZJWH6YDq5AI.jpg  ...     NaN   \n",
            "17846   /1Tw6vcJJOkA5CpQqzZ96TVZI2Q3.jpg  ...     NaN   \n",
            "...                                  ...  ...     ...   \n",
            "168627                               NaN  ...     NaN   \n",
            "168628  /ug8whIKVLv82onjeBJhptnaO913.jpg  ...     NaN   \n",
            "168629  /zgLxmCAu8hthWr0k5KCyxjp4xIX.jpg  ...     NaN   \n",
            "168634                               NaN  ...     NaN   \n",
            "168638                               NaN  ...     NaN   \n",
            "\n",
            "                           genres       created_by  languages     networks  \\\n",
            "12010                       Drama              NaN         es  Prime Video   \n",
            "13747                 Documentary              NaN         es      HBO Max   \n",
            "13748                 Documentary              NaN         es      HBO Max   \n",
            "17241                 Documentary              NaN         es      HBO Max   \n",
            "17846   Mystery, Sci-Fi & Fantasy              NaN         es          NaN   \n",
            "...                           ...              ...        ...          ...   \n",
            "168627                        NaN              NaN        NaN          NaN   \n",
            "168628                        NaN              NaN        NaN          NaN   \n",
            "168629                        NaN              NaN        NaN          NaN   \n",
            "168634                        NaN              NaN        NaN          NaN   \n",
            "168638                        NaN  Paul Vandervort        NaN          NaN   \n",
            "\n",
            "        origin_country spoken_languages              production_companies  \\\n",
            "12010               CO          Español                        AG Studios   \n",
            "13747               MX          Español                               NaN   \n",
            "13748               AR          Español  Infinity Hill, Nativa Contenidos   \n",
            "17241               MX          Español                               NaN   \n",
            "17846               MX          Español                               NaN   \n",
            "...                ...              ...                               ...   \n",
            "168627              UA              NaN                               NaN   \n",
            "168628              US              NaN                               NaN   \n",
            "168629              US              NaN                               NaN   \n",
            "168634              CN              NaN                               NaN   \n",
            "168638              US              NaN                       YouTube Red   \n",
            "\n",
            "             production_countries episode_run_time  \n",
            "12010                    Colombia                0  \n",
            "13747                         NaN               41  \n",
            "13748   Argentina, United Kingdom                0  \n",
            "17241                         NaN               41  \n",
            "17846                      Mexico                0  \n",
            "...                           ...              ...  \n",
            "168627                        NaN                0  \n",
            "168628                        NaN                0  \n",
            "168629                        NaN                0  \n",
            "168634                        NaN                0  \n",
            "168638   United States of America                0  \n",
            "\n",
            "[3934 rows x 29 columns]\n"
          ]
        }
      ]
    },
    {
      "cell_type": "code",
      "source": [
        "df = df.drop_duplicates(subset=['id'], keep='first')\n"
      ],
      "metadata": {
        "id": "8yWlmE4527_O"
      },
      "execution_count": null,
      "outputs": []
    },
    {
      "cell_type": "code",
      "source": [
        "df.shape"
      ],
      "metadata": {
        "colab": {
          "base_uri": "https://localhost:8080/"
        },
        "id": "xNh6AxBY29HA",
        "outputId": "5aa90110-c95a-4944-85a4-1920cb710701"
      },
      "execution_count": null,
      "outputs": [
        {
          "output_type": "execute_result",
          "data": {
            "text/plain": [
              "(164705, 29)"
            ]
          },
          "metadata": {},
          "execution_count": 91
        }
      ]
    },
    {
      "cell_type": "markdown",
      "source": [
        "# Filter the data\n",
        "Big data with 170000 rows- reduce number of rows\n",
        "#(first_air_date) 01/01/2017-31/12/2024\n",
        "change dates (first/last_air_date) to datetime"
      ],
      "metadata": {
        "id": "wJRTcXp13nu-"
      }
    },
    {
      "cell_type": "code",
      "execution_count": null,
      "metadata": {
        "colab": {
          "base_uri": "https://localhost:8080/"
        },
        "id": "d28c4RTBh45E",
        "outputId": "b62253bb-db5b-4232-c5b8-10cbcff80aa0"
      },
      "outputs": [
        {
          "output_type": "stream",
          "name": "stdout",
          "text": [
            "      id             name  number_of_seasons  number_of_episodes  \\\n",
            "1  71446      Money Heist                  3                  41   \n",
            "5  69050        Riverdale                  7                 137   \n",
            "6  93405       Squid Game                  2                   9   \n",
            "8  71712  The Good Doctor                  6                 116   \n",
            "9  85271      WandaVision                  1                   9   \n",
            "\n",
            "  original_language  vote_count  vote_average  \\\n",
            "1                es       17836         8.257   \n",
            "5                en       13180         8.479   \n",
            "6                ko       13053         7.831   \n",
            "8                en       11768         8.503   \n",
            "9                en       11308         8.300   \n",
            "\n",
            "                                            overview  adult  \\\n",
            "1  To carry out the biggest heist in history, a m...  False   \n",
            "5  Set in the present, the series offers a bold, ...  False   \n",
            "6  Hundreds of cash-strapped players accept a str...  False   \n",
            "8  Shaun Murphy, a young surgeon with autism and ...  False   \n",
            "9  Wanda Maximoff and Vision—two super-powered be...  False   \n",
            "\n",
            "                      backdrop_path  ...  \\\n",
            "1  /gFZriCkpJYsApPZEF3jhxL4yLzG.jpg  ...   \n",
            "5  /soQgquPkLmUu9eKLJJzuA4KZDyi.jpg  ...   \n",
            "6  /2meX1nMdScFOoV4370rqHWKmXhY.jpg  ...   \n",
            "8  /xXRsKNJHTOGrs5wfYAxkbM2RiyT.jpg  ...   \n",
            "9  /lOr9NKxh4vMweufMOUDJjJhCRHW.jpg  ...   \n",
            "\n",
            "                                           tagline  \\\n",
            "1                             The perfect robbery.   \n",
            "5  To save the future, they must survive the past.   \n",
            "6                 45.6 billion won is child's play   \n",
            "8                   Everyone operates differently.   \n",
            "9              Experience a new vision of reality.   \n",
            "\n",
            "                               genres              created_by   languages  \\\n",
            "1                        Crime, Drama               Álex Pina          es   \n",
            "5               Crime, Drama, Mystery  Roberto Aguirre-Sacasa          en   \n",
            "6  Action & Adventure, Mystery, Drama         Hwang Dong-hyuk  en, ko, ur   \n",
            "8                               Drama             David Shore          en   \n",
            "9    Sci-Fi & Fantasy, Mystery, Drama           Jac Schaeffer          en   \n",
            "\n",
            "            networks  origin_country        spoken_languages  \\\n",
            "1  Netflix, Antena 3              ES                 Español   \n",
            "5             The CW              US                 English   \n",
            "6            Netflix              KR  English, 한국어/조선말, اردو   \n",
            "8                ABC              US                 English   \n",
            "9            Disney+              US                 English   \n",
            "\n",
            "                                production_companies  \\\n",
            "1                                    Vancouver Media   \n",
            "5  Warner Bros. Television, Berlanti Productions,...   \n",
            "6                    Siren Pictures, Firstman Studio   \n",
            "8  ABC Studios, 3AD, Sony Pictures Television Stu...   \n",
            "9                                     Marvel Studios   \n",
            "\n",
            "       production_countries episode_run_time  \n",
            "1                     Spain               70  \n",
            "5  United States of America               45  \n",
            "6               South Korea                0  \n",
            "8  United States of America               43  \n",
            "9  United States of America                0  \n",
            "\n",
            "[5 rows x 29 columns]\n"
          ]
        }
      ],
      "source": [
        "# Convert the 'first_air_date' column to datetime format\n",
        "df['first_air_date'] = pd.to_datetime(df['first_air_date'], errors='coerce')\n",
        "df['last_air_date'] = pd.to_datetime(df['last_air_date'], errors='coerce')\n",
        "\n",
        "# Filter the data between 01/01/2018 and 31/12/2024\n",
        "df = df[(df['first_air_date'] >= '2017-01-01') & (df['first_air_date'] <= '2024-12-31')]\n",
        "\n",
        "# Display the filtered data\n",
        "print(df.head())\n"
      ]
    },
    {
      "cell_type": "code",
      "source": [
        "df.shape"
      ],
      "metadata": {
        "colab": {
          "base_uri": "https://localhost:8080/"
        },
        "id": "-IF_Q1zq0rWd",
        "outputId": "6d4ec041-aaca-48bb-e149-5902f7ebae60"
      },
      "execution_count": null,
      "outputs": [
        {
          "output_type": "execute_result",
          "data": {
            "text/plain": [
              "(59504, 29)"
            ]
          },
          "metadata": {},
          "execution_count": 93
        }
      ]
    },
    {
      "cell_type": "code",
      "source": [
        "df.info()"
      ],
      "metadata": {
        "colab": {
          "base_uri": "https://localhost:8080/"
        },
        "id": "U6gJ5Cj9btPV",
        "outputId": "66b329aa-f8fb-4b52-bdb6-7e05ff94f249"
      },
      "execution_count": null,
      "outputs": [
        {
          "output_type": "stream",
          "name": "stdout",
          "text": [
            "<class 'pandas.core.frame.DataFrame'>\n",
            "Index: 59504 entries, 1 to 168636\n",
            "Data columns (total 29 columns):\n",
            " #   Column                Non-Null Count  Dtype         \n",
            "---  ------                --------------  -----         \n",
            " 0   id                    59504 non-null  int64         \n",
            " 1   name                  59504 non-null  object        \n",
            " 2   number_of_seasons     59504 non-null  int64         \n",
            " 3   number_of_episodes    59504 non-null  int64         \n",
            " 4   original_language     59504 non-null  object        \n",
            " 5   vote_count            59504 non-null  int64         \n",
            " 6   vote_average          59504 non-null  float64       \n",
            " 7   overview              34014 non-null  object        \n",
            " 8   adult                 59504 non-null  bool          \n",
            " 9   backdrop_path         39288 non-null  object        \n",
            " 10  first_air_date        59504 non-null  datetime64[ns]\n",
            " 11  last_air_date         58791 non-null  datetime64[ns]\n",
            " 12  homepage              25489 non-null  object        \n",
            " 13  in_production         59504 non-null  bool          \n",
            " 14  original_name         59504 non-null  object        \n",
            " 15  popularity            59504 non-null  float64       \n",
            " 16  poster_path           49825 non-null  object        \n",
            " 17  type                  59504 non-null  object        \n",
            " 18  status                59504 non-null  object        \n",
            " 19  tagline               3171 non-null   object        \n",
            " 20  genres                39751 non-null  object        \n",
            " 21  created_by            13005 non-null  object        \n",
            " 22  languages             42656 non-null  object        \n",
            " 23  networks              37968 non-null  object        \n",
            " 24  origin_country        51298 non-null  object        \n",
            " 25  spoken_languages      42153 non-null  object        \n",
            " 26  production_companies  26243 non-null  object        \n",
            " 27  production_countries  34974 non-null  object        \n",
            " 28  episode_run_time      59504 non-null  int64         \n",
            "dtypes: bool(2), datetime64[ns](2), float64(2), int64(5), object(18)\n",
            "memory usage: 12.8+ MB\n"
          ]
        }
      ]
    },
    {
      "cell_type": "markdown",
      "source": [
        "#Calculate the Percentage of Missing Data for Each Column, Identify the Columns with the Highest Missing Data, and Drop Them from the DataFrame"
      ],
      "metadata": {
        "id": "Qd1UBGjAiO4T"
      }
    },
    {
      "cell_type": "code",
      "source": [
        "# Calculate the percentage of missing data for each column\n",
        "missing_percent = df.isnull().mean() * 100\n",
        "\n",
        "# Create a DataFrame to display the missing percentage for each column\n",
        "missing_data_df = pd.DataFrame({\n",
        "    'Missing Percentage': missing_percent\n",
        "})\n",
        "\n",
        "# Sort the DataFrame by missing percentage (optional)\n",
        "missing_data_df = missing_data_df.sort_values(by='Missing Percentage', ascending=False)\n",
        "\n",
        "# Display the results\n",
        "print(missing_data_df)\n"
      ],
      "metadata": {
        "colab": {
          "base_uri": "https://localhost:8080/"
        },
        "id": "u11Fy7JVzqU7",
        "outputId": "57a37635-a852-4e7d-f8f5-a4998908cdc3"
      },
      "execution_count": null,
      "outputs": [
        {
          "output_type": "stream",
          "name": "stdout",
          "text": [
            "                      Missing Percentage\n",
            "tagline                        94.670946\n",
            "created_by                     78.144326\n",
            "homepage                       57.164224\n",
            "production_companies           55.897083\n",
            "overview                       42.837456\n",
            "production_countries           41.224119\n",
            "networks                       36.192525\n",
            "backdrop_path                  33.974187\n",
            "genres                         33.196088\n",
            "spoken_languages               29.159384\n",
            "languages                      28.314063\n",
            "poster_path                    16.266133\n",
            "origin_country                 13.790670\n",
            "last_air_date                   1.198239\n",
            "first_air_date                  0.000000\n",
            "vote_average                    0.000000\n",
            "adult                           0.000000\n",
            "name                            0.000000\n",
            "number_of_seasons               0.000000\n",
            "number_of_episodes              0.000000\n",
            "original_language               0.000000\n",
            "id                              0.000000\n",
            "vote_count                      0.000000\n",
            "type                            0.000000\n",
            "popularity                      0.000000\n",
            "in_production                   0.000000\n",
            "status                          0.000000\n",
            "original_name                   0.000000\n",
            "episode_run_time                0.000000\n"
          ]
        }
      ]
    },
    {
      "cell_type": "code",
      "source": [
        "df.shape"
      ],
      "metadata": {
        "colab": {
          "base_uri": "https://localhost:8080/"
        },
        "id": "dmUgfrYYpaFY",
        "outputId": "393e5c60-99d0-413e-e16c-7aa43d13c40c"
      },
      "execution_count": null,
      "outputs": [
        {
          "output_type": "execute_result",
          "data": {
            "text/plain": [
              "(59504, 29)"
            ]
          },
          "metadata": {},
          "execution_count": 96
        }
      ]
    },
    {
      "cell_type": "markdown",
      "source": [
        "#convert text to lowercase"
      ],
      "metadata": {
        "id": "MdFB9Qad0mm-"
      }
    },
    {
      "cell_type": "code",
      "source": [
        "# Function to convert text to lowercase\n",
        "def to_lowercase(text):\n",
        "    if isinstance(text, str):  # Check if the value is a string\n",
        "        return text.lower()  # Convert to lowercase\n",
        "    return text  # Return the value as it is if it's not a string\n",
        "\n",
        "# Apply this function to all object (string) columns\n",
        "for col in df.select_dtypes(['object']):\n",
        "    df[col] = df[col].apply(to_lowercase)\n",
        "\n",
        "# Check the first few rows of the dataframe after conversion\n",
        "print(df.head())\n"
      ],
      "metadata": {
        "colab": {
          "base_uri": "https://localhost:8080/"
        },
        "id": "B1BqXUpDB8hp",
        "outputId": "e96d2ce1-c4d1-4bea-a9b4-10f9f796bec3"
      },
      "execution_count": null,
      "outputs": [
        {
          "output_type": "stream",
          "name": "stdout",
          "text": [
            "      id             name  number_of_seasons  number_of_episodes  \\\n",
            "1  71446      money heist                  3                  41   \n",
            "5  69050        riverdale                  7                 137   \n",
            "6  93405       squid game                  2                   9   \n",
            "8  71712  the good doctor                  6                 116   \n",
            "9  85271      wandavision                  1                   9   \n",
            "\n",
            "  original_language  vote_count  vote_average  \\\n",
            "1                es       17836         8.257   \n",
            "5                en       13180         8.479   \n",
            "6                ko       13053         7.831   \n",
            "8                en       11768         8.503   \n",
            "9                en       11308         8.300   \n",
            "\n",
            "                                            overview  adult  \\\n",
            "1  to carry out the biggest heist in history, a m...  False   \n",
            "5  set in the present, the series offers a bold, ...  False   \n",
            "6  hundreds of cash-strapped players accept a str...  False   \n",
            "8  shaun murphy, a young surgeon with autism and ...  False   \n",
            "9  wanda maximoff and vision—two super-powered be...  False   \n",
            "\n",
            "                      backdrop_path  ...  \\\n",
            "1  /gfzrickpjysappzef3jhxl4ylzg.jpg  ...   \n",
            "5  /soqgqupklmuu9ekljjzua4kzdyi.jpg  ...   \n",
            "6  /2mex1nmdscfoov4370rqhwkmxhy.jpg  ...   \n",
            "8  /xxrsknjhtogrs5wfyaxkbm2riyt.jpg  ...   \n",
            "9  /lor9nkxh4vmweufmoudjjjhcrhw.jpg  ...   \n",
            "\n",
            "                                           tagline  \\\n",
            "1                             the perfect robbery.   \n",
            "5  to save the future, they must survive the past.   \n",
            "6                 45.6 billion won is child's play   \n",
            "8                   everyone operates differently.   \n",
            "9              experience a new vision of reality.   \n",
            "\n",
            "                               genres              created_by   languages  \\\n",
            "1                        crime, drama               álex pina          es   \n",
            "5               crime, drama, mystery  roberto aguirre-sacasa          en   \n",
            "6  action & adventure, mystery, drama         hwang dong-hyuk  en, ko, ur   \n",
            "8                               drama             david shore          en   \n",
            "9    sci-fi & fantasy, mystery, drama           jac schaeffer          en   \n",
            "\n",
            "            networks  origin_country        spoken_languages  \\\n",
            "1  netflix, antena 3              es                 español   \n",
            "5             the cw              us                 english   \n",
            "6            netflix              kr  english, 한국어/조선말, اردو   \n",
            "8                abc              us                 english   \n",
            "9            disney+              us                 english   \n",
            "\n",
            "                                production_companies  \\\n",
            "1                                    vancouver media   \n",
            "5  warner bros. television, berlanti productions,...   \n",
            "6                    siren pictures, firstman studio   \n",
            "8  abc studios, 3ad, sony pictures television stu...   \n",
            "9                                     marvel studios   \n",
            "\n",
            "       production_countries episode_run_time  \n",
            "1                     spain               70  \n",
            "5  united states of america               45  \n",
            "6               south korea                0  \n",
            "8  united states of america               43  \n",
            "9  united states of america                0  \n",
            "\n",
            "[5 rows x 29 columns]\n"
          ]
        }
      ]
    },
    {
      "cell_type": "markdown",
      "source": [
        "#Check if there are any columns with similar or identical values\n",
        "The columns 'spoken_languages' and 'original_language' are similar to 'languages', and will be compared for redundancy. Similarly, the 'original_name' column is comparable to 'name', and will be assessed for overlap. The 'production_countries' column is similar to 'origin_country' and will be analyzed for any duplication. These comparisons will help in determining which columns can be merged or dropped to simplify the dataset."
      ],
      "metadata": {
        "id": "awGxzRBc0WMI"
      }
    },
    {
      "cell_type": "code",
      "source": [
        "\n",
        "# Print specific columns from df and display the first 10 rows\n",
        "print(df[['original_language', 'spoken_languages', 'languages', 'original_name', 'name']].head(10))\n",
        "\n"
      ],
      "metadata": {
        "colab": {
          "base_uri": "https://localhost:8080/"
        },
        "id": "1b6lbJ8i464e",
        "outputId": "8ff737b0-ffbd-41bb-d164-978c22d6d32c"
      },
      "execution_count": null,
      "outputs": [
        {
          "output_type": "stream",
          "name": "stdout",
          "text": [
            "   original_language        spoken_languages   languages  \\\n",
            "1                 es                 español          es   \n",
            "5                 en                 english          en   \n",
            "6                 ko  english, 한국어/조선말, اردو  en, ko, ur   \n",
            "8                 en                 english          en   \n",
            "9                 en                 english          en   \n",
            "12                en                 english          en   \n",
            "14                en                 english          en   \n",
            "16                en                 english          en   \n",
            "17                en                 english          en   \n",
            "19                es                 español          es   \n",
            "\n",
            "           original_name                  name  \n",
            "1       la casa de papel           money heist  \n",
            "5              riverdale             riverdale  \n",
            "6                 오징어 게임            squid game  \n",
            "8        the good doctor       the good doctor  \n",
            "9            wandavision           wandavision  \n",
            "12                  loki                  loki  \n",
            "14       the mandalorian       the mandalorian  \n",
            "16              euphoria              euphoria  \n",
            "17  the umbrella academy  the umbrella academy  \n",
            "19                 élite                 elite  \n"
          ]
        }
      ]
    },
    {
      "cell_type": "code",
      "source": [
        "print(df[['origin_country','production_countries']])"
      ],
      "metadata": {
        "colab": {
          "base_uri": "https://localhost:8080/"
        },
        "id": "I4iHUviDa_dd",
        "outputId": "47ad6212-41e3-4954-fa80-e9174568437e"
      },
      "execution_count": null,
      "outputs": [
        {
          "output_type": "stream",
          "name": "stdout",
          "text": [
            "       origin_country      production_countries\n",
            "1                  es                     spain\n",
            "5                  us  united states of america\n",
            "6                  kr               south korea\n",
            "8                  us  united states of america\n",
            "9                  us  united states of america\n",
            "...               ...                       ...\n",
            "168624             ru                       NaN\n",
            "168630             in                       NaN\n",
            "168632             th                  thailand\n",
            "168633             de                       NaN\n",
            "168636             in                     india\n",
            "\n",
            "[59504 rows x 2 columns]\n"
          ]
        }
      ]
    },
    {
      "cell_type": "code",
      "source": [
        "print(df[['in_production','status']])"
      ],
      "metadata": {
        "id": "xrfYZ8pMbJU_",
        "colab": {
          "base_uri": "https://localhost:8080/"
        },
        "outputId": "6af6cee4-e76f-42e4-8b1e-b193e6dd9fbf"
      },
      "execution_count": null,
      "outputs": [
        {
          "output_type": "stream",
          "name": "stdout",
          "text": [
            "        in_production            status\n",
            "1               False             ended\n",
            "5               False             ended\n",
            "6                True  returning series\n",
            "8                True  returning series\n",
            "9               False             ended\n",
            "...               ...               ...\n",
            "168624           True  returning series\n",
            "168630           True  returning series\n",
            "168632           True  returning series\n",
            "168633           True  returning series\n",
            "168636           True  returning series\n",
            "\n",
            "[59504 rows x 2 columns]\n"
          ]
        }
      ]
    },
    {
      "cell_type": "markdown",
      "source": [
        "#Counting Languages and Creating Dummies Variables for the Top 10 Most Frequent Languages , Networks and Genres\n",
        "#These columns will be dropped after EDA, before handling missing values, in order to visualize comprehensive plots.\n",
        " This step ensures that the visualizations remain clear and focused on the most relevant data, without unnecessary complexity. Dropping these columns at this stage will also help in preparing the dataset for more efficient handling of missing values in the subsequent steps."
      ],
      "metadata": {
        "id": "khUtzG2Pd-en"
      }
    },
    {
      "cell_type": "markdown",
      "source": [
        "Languages"
      ],
      "metadata": {
        "id": "7jjDIMx6de67"
      }
    },
    {
      "cell_type": "code",
      "source": [
        "df['languages'].value_counts().head(10)"
      ],
      "metadata": {
        "colab": {
          "base_uri": "https://localhost:8080/",
          "height": 429
        },
        "id": "ieFTzVnaxDcY",
        "outputId": "3528923a-a3b7-4b74-97b2-6626a52db81e"
      },
      "execution_count": null,
      "outputs": [
        {
          "output_type": "execute_result",
          "data": {
            "text/plain": [
              "languages\n",
              "en    10495\n",
              "zh     4313\n",
              "ja     3735\n",
              "fr     2565\n",
              "ko     2543\n",
              "de     1723\n",
              "es     1538\n",
              "nl     1455\n",
              "pt     1269\n",
              "hi     1114\n",
              "Name: count, dtype: int64"
            ],
            "text/html": [
              "<div>\n",
              "<style scoped>\n",
              "    .dataframe tbody tr th:only-of-type {\n",
              "        vertical-align: middle;\n",
              "    }\n",
              "\n",
              "    .dataframe tbody tr th {\n",
              "        vertical-align: top;\n",
              "    }\n",
              "\n",
              "    .dataframe thead th {\n",
              "        text-align: right;\n",
              "    }\n",
              "</style>\n",
              "<table border=\"1\" class=\"dataframe\">\n",
              "  <thead>\n",
              "    <tr style=\"text-align: right;\">\n",
              "      <th></th>\n",
              "      <th>count</th>\n",
              "    </tr>\n",
              "    <tr>\n",
              "      <th>languages</th>\n",
              "      <th></th>\n",
              "    </tr>\n",
              "  </thead>\n",
              "  <tbody>\n",
              "    <tr>\n",
              "      <th>en</th>\n",
              "      <td>10495</td>\n",
              "    </tr>\n",
              "    <tr>\n",
              "      <th>zh</th>\n",
              "      <td>4313</td>\n",
              "    </tr>\n",
              "    <tr>\n",
              "      <th>ja</th>\n",
              "      <td>3735</td>\n",
              "    </tr>\n",
              "    <tr>\n",
              "      <th>fr</th>\n",
              "      <td>2565</td>\n",
              "    </tr>\n",
              "    <tr>\n",
              "      <th>ko</th>\n",
              "      <td>2543</td>\n",
              "    </tr>\n",
              "    <tr>\n",
              "      <th>de</th>\n",
              "      <td>1723</td>\n",
              "    </tr>\n",
              "    <tr>\n",
              "      <th>es</th>\n",
              "      <td>1538</td>\n",
              "    </tr>\n",
              "    <tr>\n",
              "      <th>nl</th>\n",
              "      <td>1455</td>\n",
              "    </tr>\n",
              "    <tr>\n",
              "      <th>pt</th>\n",
              "      <td>1269</td>\n",
              "    </tr>\n",
              "    <tr>\n",
              "      <th>hi</th>\n",
              "      <td>1114</td>\n",
              "    </tr>\n",
              "  </tbody>\n",
              "</table>\n",
              "</div><br><label><b>dtype:</b> int64</label>"
            ]
          },
          "metadata": {},
          "execution_count": 101
        }
      ]
    },
    {
      "cell_type": "code",
      "source": [
        "# Step 1: Fill NaN with an empty string and convert to string type\n",
        "df['languages'] = df['languages'].fillna('').astype(str)\n",
        "\n",
        "# Step 2: Create the 'languages_count' column\n",
        "df['languages_count'] = df['languages'].str.split(r'\\s*,\\s*').str.len()\n",
        "\n",
        "# Step 3: Get the top 10 most frequent languages (without empty strings)\n",
        "all_languages = df['languages'].str.split(r'\\s*,\\s*').explode()  # Split and explode to get individual languages\n",
        "all_languages = all_languages[all_languages != '']  # Filter out empty strings\n",
        "\n",
        "# Get top 10 most frequent languages\n",
        "top_languages = all_languages.value_counts().head(10).index.tolist()\n",
        "\n",
        "# Check the top 10 languages detected\n",
        "print(\"Top 10 languages:\", top_languages)\n",
        "\n",
        "# Step 4: Create dummies for the top 10 languages\n",
        "for language in top_languages:\n",
        "    df[language] = df['languages'].apply(lambda x: 1 if language in x.split(', ') else 0)\n",
        "\n",
        "# Step 5: Print the results\n",
        "print(df[['languages_count'] + top_languages].head())  # Show the languages_count and the dummies\n"
      ],
      "metadata": {
        "colab": {
          "base_uri": "https://localhost:8080/"
        },
        "id": "n5ies2c2jpsd",
        "outputId": "eee68b71-9826-4647-e6c6-56d9ee77aafd"
      },
      "execution_count": null,
      "outputs": [
        {
          "output_type": "stream",
          "name": "stdout",
          "text": [
            "Top 10 languages: ['en', 'zh', 'ja', 'fr', 'ko', 'de', 'es', 'nl', 'pt', 'hi']\n",
            "   languages_count  en  zh  ja  fr  ko  de  es  nl  pt  hi\n",
            "1                1   0   0   0   0   0   0   1   0   0   0\n",
            "5                1   1   0   0   0   0   0   0   0   0   0\n",
            "6                3   1   0   0   0   1   0   0   0   0   0\n",
            "8                1   1   0   0   0   0   0   0   0   0   0\n",
            "9                1   1   0   0   0   0   0   0   0   0   0\n"
          ]
        }
      ]
    },
    {
      "cell_type": "code",
      "source": [
        "df.info()"
      ],
      "metadata": {
        "colab": {
          "base_uri": "https://localhost:8080/"
        },
        "id": "pMCdWzrwwoPO",
        "outputId": "e67de81a-b71a-40b6-cfee-6d96047012cc"
      },
      "execution_count": null,
      "outputs": [
        {
          "output_type": "stream",
          "name": "stdout",
          "text": [
            "<class 'pandas.core.frame.DataFrame'>\n",
            "Index: 59504 entries, 1 to 168636\n",
            "Data columns (total 40 columns):\n",
            " #   Column                Non-Null Count  Dtype         \n",
            "---  ------                --------------  -----         \n",
            " 0   id                    59504 non-null  int64         \n",
            " 1   name                  59504 non-null  object        \n",
            " 2   number_of_seasons     59504 non-null  int64         \n",
            " 3   number_of_episodes    59504 non-null  int64         \n",
            " 4   original_language     59504 non-null  object        \n",
            " 5   vote_count            59504 non-null  int64         \n",
            " 6   vote_average          59504 non-null  float64       \n",
            " 7   overview              34014 non-null  object        \n",
            " 8   adult                 59504 non-null  bool          \n",
            " 9   backdrop_path         39288 non-null  object        \n",
            " 10  first_air_date        59504 non-null  datetime64[ns]\n",
            " 11  last_air_date         58791 non-null  datetime64[ns]\n",
            " 12  homepage              25489 non-null  object        \n",
            " 13  in_production         59504 non-null  bool          \n",
            " 14  original_name         59504 non-null  object        \n",
            " 15  popularity            59504 non-null  float64       \n",
            " 16  poster_path           49825 non-null  object        \n",
            " 17  type                  59504 non-null  object        \n",
            " 18  status                59504 non-null  object        \n",
            " 19  tagline               3171 non-null   object        \n",
            " 20  genres                39751 non-null  object        \n",
            " 21  created_by            13005 non-null  object        \n",
            " 22  languages             59504 non-null  object        \n",
            " 23  networks              37968 non-null  object        \n",
            " 24  origin_country        51298 non-null  object        \n",
            " 25  spoken_languages      42153 non-null  object        \n",
            " 26  production_companies  26243 non-null  object        \n",
            " 27  production_countries  34974 non-null  object        \n",
            " 28  episode_run_time      59504 non-null  int64         \n",
            " 29  languages_count       59504 non-null  int64         \n",
            " 30  en                    59504 non-null  int64         \n",
            " 31  zh                    59504 non-null  int64         \n",
            " 32  ja                    59504 non-null  int64         \n",
            " 33  fr                    59504 non-null  int64         \n",
            " 34  ko                    59504 non-null  int64         \n",
            " 35  de                    59504 non-null  int64         \n",
            " 36  es                    59504 non-null  int64         \n",
            " 37  nl                    59504 non-null  int64         \n",
            " 38  pt                    59504 non-null  int64         \n",
            " 39  hi                    59504 non-null  int64         \n",
            "dtypes: bool(2), datetime64[ns](2), float64(2), int64(16), object(18)\n",
            "memory usage: 17.8+ MB\n"
          ]
        }
      ]
    },
    {
      "cell_type": "markdown",
      "source": [
        "Networks"
      ],
      "metadata": {
        "id": "eHzpvr9uB6dM"
      }
    },
    {
      "cell_type": "code",
      "source": [
        "df['networks'].value_counts().head(10)"
      ],
      "metadata": {
        "colab": {
          "base_uri": "https://localhost:8080/",
          "height": 429
        },
        "id": "wewOGfhDis3S",
        "outputId": "1cf02549-2086-4ba6-af84-1cc8dd83a8b5"
      },
      "execution_count": null,
      "outputs": [
        {
          "output_type": "execute_result",
          "data": {
            "text/plain": [
              "networks\n",
              "netflix          1508\n",
              "youtube          1194\n",
              "prime video       616\n",
              "tencent video     550\n",
              "iqiyi             541\n",
              "channel 4         408\n",
              "channel 5         376\n",
              "bbc two           362\n",
              "youku             352\n",
              "tv 2              331\n",
              "Name: count, dtype: int64"
            ],
            "text/html": [
              "<div>\n",
              "<style scoped>\n",
              "    .dataframe tbody tr th:only-of-type {\n",
              "        vertical-align: middle;\n",
              "    }\n",
              "\n",
              "    .dataframe tbody tr th {\n",
              "        vertical-align: top;\n",
              "    }\n",
              "\n",
              "    .dataframe thead th {\n",
              "        text-align: right;\n",
              "    }\n",
              "</style>\n",
              "<table border=\"1\" class=\"dataframe\">\n",
              "  <thead>\n",
              "    <tr style=\"text-align: right;\">\n",
              "      <th></th>\n",
              "      <th>count</th>\n",
              "    </tr>\n",
              "    <tr>\n",
              "      <th>networks</th>\n",
              "      <th></th>\n",
              "    </tr>\n",
              "  </thead>\n",
              "  <tbody>\n",
              "    <tr>\n",
              "      <th>netflix</th>\n",
              "      <td>1508</td>\n",
              "    </tr>\n",
              "    <tr>\n",
              "      <th>youtube</th>\n",
              "      <td>1194</td>\n",
              "    </tr>\n",
              "    <tr>\n",
              "      <th>prime video</th>\n",
              "      <td>616</td>\n",
              "    </tr>\n",
              "    <tr>\n",
              "      <th>tencent video</th>\n",
              "      <td>550</td>\n",
              "    </tr>\n",
              "    <tr>\n",
              "      <th>iqiyi</th>\n",
              "      <td>541</td>\n",
              "    </tr>\n",
              "    <tr>\n",
              "      <th>channel 4</th>\n",
              "      <td>408</td>\n",
              "    </tr>\n",
              "    <tr>\n",
              "      <th>channel 5</th>\n",
              "      <td>376</td>\n",
              "    </tr>\n",
              "    <tr>\n",
              "      <th>bbc two</th>\n",
              "      <td>362</td>\n",
              "    </tr>\n",
              "    <tr>\n",
              "      <th>youku</th>\n",
              "      <td>352</td>\n",
              "    </tr>\n",
              "    <tr>\n",
              "      <th>tv 2</th>\n",
              "      <td>331</td>\n",
              "    </tr>\n",
              "  </tbody>\n",
              "</table>\n",
              "</div><br><label><b>dtype:</b> int64</label>"
            ]
          },
          "metadata": {},
          "execution_count": 104
        }
      ]
    },
    {
      "cell_type": "code",
      "source": [
        "# Step 1: Fill NaN with empty string and convert to string type\n",
        "df['networks'] = df['networks'].fillna('').astype(str)\n",
        "\n",
        "# Step 2: Create the 'networks_count' column\n",
        "df['networks_count'] = df['networks'].str.split(r'\\s*,\\s*').str.len()\n",
        "\n",
        "# Step 3: Get the top 10 most frequent networks (without empty strings)\n",
        "all_networks = df['networks'].str.split(r'\\s*,\\s*').explode()  # Split and explode to get individual networks\n",
        "\n",
        "# Filter out empty strings and non-networks from the all_networks list\n",
        "all_networks = all_networks[all_networks != '']\n",
        "\n",
        "# Get the top 10 most frequent networks\n",
        "top_networks = all_networks.value_counts().head(10).index.tolist()\n",
        "\n",
        "# Check the top 10 networks detected\n",
        "print(\"Top 10 networks:\", top_networks)\n",
        "\n",
        "# Step 4: Create dummies for the top 10 networks\n",
        "for network in top_networks:\n",
        "    # Debugging step: Check if network appears in the 'networks' column\n",
        "    df[network] = df['networks'].apply(lambda x: 1 if network in x.split(', ') else 0)\n",
        "\n",
        "# Step 5: Print the results\n",
        "print(df[['networks_count'] + top_networks].head())  # Show the networks_count and the dummies\n"
      ],
      "metadata": {
        "colab": {
          "base_uri": "https://localhost:8080/"
        },
        "id": "0sQqBQJGj-y_",
        "outputId": "7227bc19-28eb-4b3b-d9cf-416d95162ed7"
      },
      "execution_count": null,
      "outputs": [
        {
          "output_type": "stream",
          "name": "stdout",
          "text": [
            "Top 10 networks: ['netflix', 'youtube', 'iqiyi', 'tencent video', 'prime video', 'youku', 'tokyo mx', 'channel 4', 'bbc two', 'channel 5']\n",
            "   networks_count  netflix  youtube  iqiyi  tencent video  prime video  youku  \\\n",
            "1               2        1        0      0              0            0      0   \n",
            "5               1        0        0      0              0            0      0   \n",
            "6               1        1        0      0              0            0      0   \n",
            "8               1        0        0      0              0            0      0   \n",
            "9               1        0        0      0              0            0      0   \n",
            "\n",
            "   tokyo mx  channel 4  bbc two  channel 5  \n",
            "1         0          0        0          0  \n",
            "5         0          0        0          0  \n",
            "6         0          0        0          0  \n",
            "8         0          0        0          0  \n",
            "9         0          0        0          0  \n"
          ]
        }
      ]
    },
    {
      "cell_type": "code",
      "source": [
        "df.info()"
      ],
      "metadata": {
        "colab": {
          "base_uri": "https://localhost:8080/"
        },
        "id": "ggQcnjrOySzU",
        "outputId": "d75ffe33-f0f3-41b6-90c2-b993864c7e26"
      },
      "execution_count": null,
      "outputs": [
        {
          "output_type": "stream",
          "name": "stdout",
          "text": [
            "<class 'pandas.core.frame.DataFrame'>\n",
            "Index: 59504 entries, 1 to 168636\n",
            "Data columns (total 51 columns):\n",
            " #   Column                Non-Null Count  Dtype         \n",
            "---  ------                --------------  -----         \n",
            " 0   id                    59504 non-null  int64         \n",
            " 1   name                  59504 non-null  object        \n",
            " 2   number_of_seasons     59504 non-null  int64         \n",
            " 3   number_of_episodes    59504 non-null  int64         \n",
            " 4   original_language     59504 non-null  object        \n",
            " 5   vote_count            59504 non-null  int64         \n",
            " 6   vote_average          59504 non-null  float64       \n",
            " 7   overview              34014 non-null  object        \n",
            " 8   adult                 59504 non-null  bool          \n",
            " 9   backdrop_path         39288 non-null  object        \n",
            " 10  first_air_date        59504 non-null  datetime64[ns]\n",
            " 11  last_air_date         58791 non-null  datetime64[ns]\n",
            " 12  homepage              25489 non-null  object        \n",
            " 13  in_production         59504 non-null  bool          \n",
            " 14  original_name         59504 non-null  object        \n",
            " 15  popularity            59504 non-null  float64       \n",
            " 16  poster_path           49825 non-null  object        \n",
            " 17  type                  59504 non-null  object        \n",
            " 18  status                59504 non-null  object        \n",
            " 19  tagline               3171 non-null   object        \n",
            " 20  genres                39751 non-null  object        \n",
            " 21  created_by            13005 non-null  object        \n",
            " 22  languages             59504 non-null  object        \n",
            " 23  networks              59504 non-null  object        \n",
            " 24  origin_country        51298 non-null  object        \n",
            " 25  spoken_languages      42153 non-null  object        \n",
            " 26  production_companies  26243 non-null  object        \n",
            " 27  production_countries  34974 non-null  object        \n",
            " 28  episode_run_time      59504 non-null  int64         \n",
            " 29  languages_count       59504 non-null  int64         \n",
            " 30  en                    59504 non-null  int64         \n",
            " 31  zh                    59504 non-null  int64         \n",
            " 32  ja                    59504 non-null  int64         \n",
            " 33  fr                    59504 non-null  int64         \n",
            " 34  ko                    59504 non-null  int64         \n",
            " 35  de                    59504 non-null  int64         \n",
            " 36  es                    59504 non-null  int64         \n",
            " 37  nl                    59504 non-null  int64         \n",
            " 38  pt                    59504 non-null  int64         \n",
            " 39  hi                    59504 non-null  int64         \n",
            " 40  networks_count        59504 non-null  int64         \n",
            " 41  netflix               59504 non-null  int64         \n",
            " 42  youtube               59504 non-null  int64         \n",
            " 43  iqiyi                 59504 non-null  int64         \n",
            " 44  tencent video         59504 non-null  int64         \n",
            " 45  prime video           59504 non-null  int64         \n",
            " 46  youku                 59504 non-null  int64         \n",
            " 47  tokyo mx              59504 non-null  int64         \n",
            " 48  channel 4             59504 non-null  int64         \n",
            " 49  bbc two               59504 non-null  int64         \n",
            " 50  channel 5             59504 non-null  int64         \n",
            "dtypes: bool(2), datetime64[ns](2), float64(2), int64(27), object(18)\n",
            "memory usage: 22.8+ MB\n"
          ]
        }
      ]
    },
    {
      "cell_type": "markdown",
      "source": [
        "Genres"
      ],
      "metadata": {
        "id": "foDsEKDTnCT4"
      }
    },
    {
      "cell_type": "code",
      "source": [
        "df['genres'].value_counts()"
      ],
      "metadata": {
        "colab": {
          "base_uri": "https://localhost:8080/",
          "height": 489
        },
        "id": "apiVdi43mPE9",
        "outputId": "abee9519-d74a-4147-9448-f7d7d59f9f5d"
      },
      "execution_count": null,
      "outputs": [
        {
          "output_type": "execute_result",
          "data": {
            "text/plain": [
              "genres\n",
              "documentary                                  8220\n",
              "drama                                        6098\n",
              "reality                                      4505\n",
              "comedy                                       2996\n",
              "comedy, drama                                 986\n",
              "                                             ... \n",
              "kids, animation, family, sci-fi & fantasy       1\n",
              "action & adventure, comedy, documentary         1\n",
              "comedy, documentary, talk                       1\n",
              "comedy, family, drama, kids                     1\n",
              "documentary, talk, war & politics               1\n",
              "Name: count, Length: 1231, dtype: int64"
            ],
            "text/html": [
              "<div>\n",
              "<style scoped>\n",
              "    .dataframe tbody tr th:only-of-type {\n",
              "        vertical-align: middle;\n",
              "    }\n",
              "\n",
              "    .dataframe tbody tr th {\n",
              "        vertical-align: top;\n",
              "    }\n",
              "\n",
              "    .dataframe thead th {\n",
              "        text-align: right;\n",
              "    }\n",
              "</style>\n",
              "<table border=\"1\" class=\"dataframe\">\n",
              "  <thead>\n",
              "    <tr style=\"text-align: right;\">\n",
              "      <th></th>\n",
              "      <th>count</th>\n",
              "    </tr>\n",
              "    <tr>\n",
              "      <th>genres</th>\n",
              "      <th></th>\n",
              "    </tr>\n",
              "  </thead>\n",
              "  <tbody>\n",
              "    <tr>\n",
              "      <th>documentary</th>\n",
              "      <td>8220</td>\n",
              "    </tr>\n",
              "    <tr>\n",
              "      <th>drama</th>\n",
              "      <td>6098</td>\n",
              "    </tr>\n",
              "    <tr>\n",
              "      <th>reality</th>\n",
              "      <td>4505</td>\n",
              "    </tr>\n",
              "    <tr>\n",
              "      <th>comedy</th>\n",
              "      <td>2996</td>\n",
              "    </tr>\n",
              "    <tr>\n",
              "      <th>comedy, drama</th>\n",
              "      <td>986</td>\n",
              "    </tr>\n",
              "    <tr>\n",
              "      <th>...</th>\n",
              "      <td>...</td>\n",
              "    </tr>\n",
              "    <tr>\n",
              "      <th>kids, animation, family, sci-fi &amp; fantasy</th>\n",
              "      <td>1</td>\n",
              "    </tr>\n",
              "    <tr>\n",
              "      <th>action &amp; adventure, comedy, documentary</th>\n",
              "      <td>1</td>\n",
              "    </tr>\n",
              "    <tr>\n",
              "      <th>comedy, documentary, talk</th>\n",
              "      <td>1</td>\n",
              "    </tr>\n",
              "    <tr>\n",
              "      <th>comedy, family, drama, kids</th>\n",
              "      <td>1</td>\n",
              "    </tr>\n",
              "    <tr>\n",
              "      <th>documentary, talk, war &amp; politics</th>\n",
              "      <td>1</td>\n",
              "    </tr>\n",
              "  </tbody>\n",
              "</table>\n",
              "<p>1231 rows × 1 columns</p>\n",
              "</div><br><label><b>dtype:</b> int64</label>"
            ]
          },
          "metadata": {},
          "execution_count": 107
        }
      ]
    },
    {
      "cell_type": "code",
      "source": [
        "import pandas as pd\n",
        "\n",
        "\n",
        "\n",
        "# Convert any non-string values to empty strings (e.g., NaN, floats, etc.)\n",
        "df['genres'] = df['genres'].fillna('').astype(str)\n",
        "\n",
        "# Replace 'nan' string (result of fillna) with empty string (or keep it as empty)\n",
        "df['genres'] = df['genres'].replace('nan', '')\n",
        "\n",
        "# Split the genres by commas (in case of multiple genres),\n",
        "# and make sure that empty entries (previously NaN or blank) are treated as empty lists\n",
        "df['genres'] = df['genres'].apply(lambda x: x.split(', ') if x != '' else [])\n",
        "\n",
        "# Use explode() to turn the list of genres into individual rows\n",
        "df_exploded = df.explode('genres')\n",
        "\n",
        "# SCreate dummy variables for the exploded genres\n",
        "df_dummies = pd.get_dummies(df_exploded['genres'])\n",
        "\n",
        "# Group by the original index and take the max to combine back into the original DataFrame\n",
        "df_genres = df_dummies.groupby(df_exploded.index).max()\n",
        "\n",
        "#  Convert the boolean values to integers (1 for True, 0 for False)\n",
        "df_genres = df_genres.astype(int)\n",
        "\n",
        "#  Join the dummy variables back to the original DataFrame\n",
        "df = df.join(df_genres, how='left')\n",
        "\n",
        "# Print the resulting DataFrame to see the dummy variables for genres\n",
        "print(df)"
      ],
      "metadata": {
        "colab": {
          "base_uri": "https://localhost:8080/"
        },
        "id": "oCyKi0bbmbOy",
        "outputId": "def3b660-5443-4b22-d3c3-fa8275e3ae49"
      },
      "execution_count": null,
      "outputs": [
        {
          "output_type": "stream",
          "name": "stdout",
          "text": [
            "            id             name  number_of_seasons  number_of_episodes  \\\n",
            "1        71446      money heist                  3                  41   \n",
            "5        69050        riverdale                  7                 137   \n",
            "6        93405       squid game                  2                   9   \n",
            "8        71712  the good doctor                  6                 116   \n",
            "9        85271      wandavision                  1                   9   \n",
            "...        ...              ...                ...                 ...   \n",
            "168624  240698   take my muffin                  1                   8   \n",
            "168630  240293           jhanak                  1                  32   \n",
            "168632  240609     born to be y                  1                   1   \n",
            "168633  240693    jokah & tutty                  1                   8   \n",
            "168636  240696          picasso                  1                   1   \n",
            "\n",
            "       original_language  vote_count  vote_average  \\\n",
            "1                     es       17836         8.257   \n",
            "5                     en       13180         8.479   \n",
            "6                     ko       13053         7.831   \n",
            "8                     en       11768         8.503   \n",
            "9                     en       11308         8.300   \n",
            "...                  ...         ...           ...   \n",
            "168624                ru           0         0.000   \n",
            "168630                hi           0         0.000   \n",
            "168632                th           0         0.000   \n",
            "168633                de           0         0.000   \n",
            "168636                bn           0         0.000   \n",
            "\n",
            "                                                 overview  adult  \\\n",
            "1       to carry out the biggest heist in history, a m...  False   \n",
            "5       set in the present, the series offers a bold, ...  False   \n",
            "6       hundreds of cash-strapped players accept a str...  False   \n",
            "8       shaun murphy, a young surgeon with autism and ...  False   \n",
            "9       wanda maximoff and vision—two super-powered be...  False   \n",
            "...                                                   ...    ...   \n",
            "168624  the story is about a unicorn who has lost his ...   True   \n",
            "168630                                                NaN  False   \n",
            "168632  the story of 14 contestants who audition to co...  False   \n",
            "168633                                                NaN  False   \n",
            "168636  murder, art and a journalist's relentless ques...  False   \n",
            "\n",
            "                           backdrop_path  ... family kids mystery  news  \\\n",
            "1       /gfzrickpjysappzef3jhxl4ylzg.jpg  ...      0    0       0     0   \n",
            "5       /soqgqupklmuu9ekljjzua4kzdyi.jpg  ...      0    0       1     0   \n",
            "6       /2mex1nmdscfoov4370rqhwkmxhy.jpg  ...      0    0       1     0   \n",
            "8       /xxrsknjhtogrs5wfyaxkbm2riyt.jpg  ...      0    0       0     0   \n",
            "9       /lor9nkxh4vmweufmoudjjjhcrhw.jpg  ...      0    0       1     0   \n",
            "...                                  ...  ...    ...  ...     ...   ...   \n",
            "168624                               NaN  ...      0    0       0     0   \n",
            "168630  /qsvujmyayl7ol7nfdovczasxab5.jpg  ...      0    0       0     0   \n",
            "168632  /rfzx8rzefncunnu91qcierz2x4i.jpg  ...      0    0       0     0   \n",
            "168633  /js1ftj6ffnauj5no45v5pxaiuqa.jpg  ...      0    0       0     0   \n",
            "168636   /fsebbbvhtdczs5m7bsjoxysve5.jpg  ...      0    0       0     0   \n",
            "\n",
            "       reality  sci-fi & fantasy soap talk war & politics western  \n",
            "1            0                 0    0    0              0       0  \n",
            "5            0                 0    0    0              0       0  \n",
            "6            0                 0    0    0              0       0  \n",
            "8            0                 0    0    0              0       0  \n",
            "9            0                 1    0    0              0       0  \n",
            "...        ...               ...  ...  ...            ...     ...  \n",
            "168624       0                 0    0    0              0       0  \n",
            "168630       0                 0    0    0              0       0  \n",
            "168632       0                 0    0    0              0       0  \n",
            "168633       0                 0    0    0              0       0  \n",
            "168636       0                 0    0    0              0       0  \n",
            "\n",
            "[59504 rows x 67 columns]\n"
          ]
        }
      ]
    },
    {
      "cell_type": "code",
      "source": [
        "print(df_genres.sum())"
      ],
      "metadata": {
        "colab": {
          "base_uri": "https://localhost:8080/"
        },
        "id": "BVQOc-QJm5qy",
        "outputId": "54818d2e-f26b-4add-a810-e11f0d1e0bc1"
      },
      "execution_count": null,
      "outputs": [
        {
          "output_type": "stream",
          "name": "stdout",
          "text": [
            "action & adventure     2310\n",
            "animation              3626\n",
            "comedy                 8105\n",
            "crime                  3367\n",
            "documentary           10669\n",
            "drama                 13234\n",
            "family                 2106\n",
            "kids                   1385\n",
            "mystery                2658\n",
            "news                    307\n",
            "reality                6221\n",
            "sci-fi & fantasy       2339\n",
            "soap                    449\n",
            "talk                   1512\n",
            "war & politics          576\n",
            "western                  38\n",
            "dtype: int64\n"
          ]
        }
      ]
    },
    {
      "cell_type": "code",
      "source": [
        "# Merge 'war & politics' & 'news', and 'action & adventure' & 'western'\n",
        "df['war & politics & news'] = df['war & politics'] | df['news']  # OR operation to merge\n",
        "df['action & adventure & western'] = df['action & adventure'] | df['western']  # OR operation to merge\n",
        "\n",
        "# Drop the now redundant 'news' and 'western' columns\n",
        "df.drop(['news', 'western'], axis=1, inplace=True)\n",
        "\n",
        "# Drop the original 'war & politics' column\n",
        "df.drop(['war & politics'], axis=1, inplace=True)\n",
        "\n",
        "# Print the resulting DataFrame to see the merged columns and dummies\n",
        "print(df)\n"
      ],
      "metadata": {
        "colab": {
          "base_uri": "https://localhost:8080/"
        },
        "id": "U0wz3vsvm8Q1",
        "outputId": "787a0c3b-4e7e-4b26-b2cf-fc1399dd211f"
      },
      "execution_count": null,
      "outputs": [
        {
          "output_type": "stream",
          "name": "stdout",
          "text": [
            "            id             name  number_of_seasons  number_of_episodes  \\\n",
            "1        71446      money heist                  3                  41   \n",
            "5        69050        riverdale                  7                 137   \n",
            "6        93405       squid game                  2                   9   \n",
            "8        71712  the good doctor                  6                 116   \n",
            "9        85271      wandavision                  1                   9   \n",
            "...        ...              ...                ...                 ...   \n",
            "168624  240698   take my muffin                  1                   8   \n",
            "168630  240293           jhanak                  1                  32   \n",
            "168632  240609     born to be y                  1                   1   \n",
            "168633  240693    jokah & tutty                  1                   8   \n",
            "168636  240696          picasso                  1                   1   \n",
            "\n",
            "       original_language  vote_count  vote_average  \\\n",
            "1                     es       17836         8.257   \n",
            "5                     en       13180         8.479   \n",
            "6                     ko       13053         7.831   \n",
            "8                     en       11768         8.503   \n",
            "9                     en       11308         8.300   \n",
            "...                  ...         ...           ...   \n",
            "168624                ru           0         0.000   \n",
            "168630                hi           0         0.000   \n",
            "168632                th           0         0.000   \n",
            "168633                de           0         0.000   \n",
            "168636                bn           0         0.000   \n",
            "\n",
            "                                                 overview  adult  \\\n",
            "1       to carry out the biggest heist in history, a m...  False   \n",
            "5       set in the present, the series offers a bold, ...  False   \n",
            "6       hundreds of cash-strapped players accept a str...  False   \n",
            "8       shaun murphy, a young surgeon with autism and ...  False   \n",
            "9       wanda maximoff and vision—two super-powered be...  False   \n",
            "...                                                   ...    ...   \n",
            "168624  the story is about a unicorn who has lost his ...   True   \n",
            "168630                                                NaN  False   \n",
            "168632  the story of 14 contestants who audition to co...  False   \n",
            "168633                                                NaN  False   \n",
            "168636  murder, art and a journalist's relentless ques...  False   \n",
            "\n",
            "                           backdrop_path  ... drama family kids  mystery  \\\n",
            "1       /gfzrickpjysappzef3jhxl4ylzg.jpg  ...     1      0    0        0   \n",
            "5       /soqgqupklmuu9ekljjzua4kzdyi.jpg  ...     1      0    0        1   \n",
            "6       /2mex1nmdscfoov4370rqhwkmxhy.jpg  ...     1      0    0        1   \n",
            "8       /xxrsknjhtogrs5wfyaxkbm2riyt.jpg  ...     1      0    0        0   \n",
            "9       /lor9nkxh4vmweufmoudjjjhcrhw.jpg  ...     1      0    0        1   \n",
            "...                                  ...  ...   ...    ...  ...      ...   \n",
            "168624                               NaN  ...     0      0    0        0   \n",
            "168630  /qsvujmyayl7ol7nfdovczasxab5.jpg  ...     1      0    0        0   \n",
            "168632  /rfzx8rzefncunnu91qcierz2x4i.jpg  ...     1      0    0        0   \n",
            "168633  /js1ftj6ffnauj5no45v5pxaiuqa.jpg  ...     1      0    0        0   \n",
            "168636   /fsebbbvhtdczs5m7bsjoxysve5.jpg  ...     0      0    0        0   \n",
            "\n",
            "       reality  sci-fi & fantasy soap talk war & politics & news  \\\n",
            "1            0                 0    0    0                     0   \n",
            "5            0                 0    0    0                     0   \n",
            "6            0                 0    0    0                     0   \n",
            "8            0                 0    0    0                     0   \n",
            "9            0                 1    0    0                     0   \n",
            "...        ...               ...  ...  ...                   ...   \n",
            "168624       0                 0    0    0                     0   \n",
            "168630       0                 0    0    0                     0   \n",
            "168632       0                 0    0    0                     0   \n",
            "168633       0                 0    0    0                     0   \n",
            "168636       0                 0    0    0                     0   \n",
            "\n",
            "       action & adventure & western  \n",
            "1                                 0  \n",
            "5                                 0  \n",
            "6                                 1  \n",
            "8                                 0  \n",
            "9                                 0  \n",
            "...                             ...  \n",
            "168624                            0  \n",
            "168630                            0  \n",
            "168632                            0  \n",
            "168633                            1  \n",
            "168636                            0  \n",
            "\n",
            "[59504 rows x 66 columns]\n"
          ]
        }
      ]
    },
    {
      "cell_type": "code",
      "source": [
        "df.info()"
      ],
      "metadata": {
        "colab": {
          "base_uri": "https://localhost:8080/"
        },
        "id": "4XTj9KetydhR",
        "outputId": "ee30016b-6dc3-4d75-8603-9184ef228a25"
      },
      "execution_count": null,
      "outputs": [
        {
          "output_type": "stream",
          "name": "stdout",
          "text": [
            "<class 'pandas.core.frame.DataFrame'>\n",
            "Index: 59504 entries, 1 to 168636\n",
            "Data columns (total 66 columns):\n",
            " #   Column                        Non-Null Count  Dtype         \n",
            "---  ------                        --------------  -----         \n",
            " 0   id                            59504 non-null  int64         \n",
            " 1   name                          59504 non-null  object        \n",
            " 2   number_of_seasons             59504 non-null  int64         \n",
            " 3   number_of_episodes            59504 non-null  int64         \n",
            " 4   original_language             59504 non-null  object        \n",
            " 5   vote_count                    59504 non-null  int64         \n",
            " 6   vote_average                  59504 non-null  float64       \n",
            " 7   overview                      34014 non-null  object        \n",
            " 8   adult                         59504 non-null  bool          \n",
            " 9   backdrop_path                 39288 non-null  object        \n",
            " 10  first_air_date                59504 non-null  datetime64[ns]\n",
            " 11  last_air_date                 58791 non-null  datetime64[ns]\n",
            " 12  homepage                      25489 non-null  object        \n",
            " 13  in_production                 59504 non-null  bool          \n",
            " 14  original_name                 59504 non-null  object        \n",
            " 15  popularity                    59504 non-null  float64       \n",
            " 16  poster_path                   49825 non-null  object        \n",
            " 17  type                          59504 non-null  object        \n",
            " 18  status                        59504 non-null  object        \n",
            " 19  tagline                       3171 non-null   object        \n",
            " 20  genres                        59504 non-null  object        \n",
            " 21  created_by                    13005 non-null  object        \n",
            " 22  languages                     59504 non-null  object        \n",
            " 23  networks                      59504 non-null  object        \n",
            " 24  origin_country                51298 non-null  object        \n",
            " 25  spoken_languages              42153 non-null  object        \n",
            " 26  production_companies          26243 non-null  object        \n",
            " 27  production_countries          34974 non-null  object        \n",
            " 28  episode_run_time              59504 non-null  int64         \n",
            " 29  languages_count               59504 non-null  int64         \n",
            " 30  en                            59504 non-null  int64         \n",
            " 31  zh                            59504 non-null  int64         \n",
            " 32  ja                            59504 non-null  int64         \n",
            " 33  fr                            59504 non-null  int64         \n",
            " 34  ko                            59504 non-null  int64         \n",
            " 35  de                            59504 non-null  int64         \n",
            " 36  es                            59504 non-null  int64         \n",
            " 37  nl                            59504 non-null  int64         \n",
            " 38  pt                            59504 non-null  int64         \n",
            " 39  hi                            59504 non-null  int64         \n",
            " 40  networks_count                59504 non-null  int64         \n",
            " 41  netflix                       59504 non-null  int64         \n",
            " 42  youtube                       59504 non-null  int64         \n",
            " 43  iqiyi                         59504 non-null  int64         \n",
            " 44  tencent video                 59504 non-null  int64         \n",
            " 45  prime video                   59504 non-null  int64         \n",
            " 46  youku                         59504 non-null  int64         \n",
            " 47  tokyo mx                      59504 non-null  int64         \n",
            " 48  channel 4                     59504 non-null  int64         \n",
            " 49  bbc two                       59504 non-null  int64         \n",
            " 50  channel 5                     59504 non-null  int64         \n",
            " 51  action & adventure            59504 non-null  int64         \n",
            " 52  animation                     59504 non-null  int64         \n",
            " 53  comedy                        59504 non-null  int64         \n",
            " 54  crime                         59504 non-null  int64         \n",
            " 55  documentary                   59504 non-null  int64         \n",
            " 56  drama                         59504 non-null  int64         \n",
            " 57  family                        59504 non-null  int64         \n",
            " 58  kids                          59504 non-null  int64         \n",
            " 59  mystery                       59504 non-null  int64         \n",
            " 60  reality                       59504 non-null  int64         \n",
            " 61  sci-fi & fantasy              59504 non-null  int64         \n",
            " 62  soap                          59504 non-null  int64         \n",
            " 63  talk                          59504 non-null  int64         \n",
            " 64  war & politics & news         59504 non-null  int64         \n",
            " 65  action & adventure & western  59504 non-null  int64         \n",
            "dtypes: bool(2), datetime64[ns](2), float64(2), int64(42), object(18)\n",
            "memory usage: 29.6+ MB\n"
          ]
        }
      ]
    },
    {
      "cell_type": "code",
      "source": [
        "# Convert the list of genres to a comma-separated string\n",
        "df['genres'] = df['genres'].apply(lambda x: ', '.join(x) if isinstance(x, list) else x)\n",
        "\n",
        "# Check the result\n",
        "print(df[['genres']].head())"
      ],
      "metadata": {
        "colab": {
          "base_uri": "https://localhost:8080/"
        },
        "id": "aZy6qmWqnA6h",
        "outputId": "89a1e028-0abd-4ae8-ea34-54ddd78ed92a"
      },
      "execution_count": null,
      "outputs": [
        {
          "output_type": "stream",
          "name": "stdout",
          "text": [
            "                               genres\n",
            "1                        crime, drama\n",
            "5               crime, drama, mystery\n",
            "6  action & adventure, mystery, drama\n",
            "8                               drama\n",
            "9    sci-fi & fantasy, mystery, drama\n"
          ]
        }
      ]
    },
    {
      "cell_type": "markdown",
      "source": [
        "# Data Frame Adjustments:\n",
        "\n",
        " Drop the 'spoken_languages' column, as it is redundant with 'languages'.\n",
        "\n",
        "Drop the 'original_language' column, which is also covered by 'languages'.\n",
        "\n",
        "Drop the 'original_name' column, and keep only the 'name' and 'ID' columns for clarity and simplicity.\n",
        "\n",
        "Drop the 'production_countries' column, as it is redundant with 'origin_country'.\n",
        "\n",
        "Drop the 'tagline' column, as it has 96% missing data (only 3207 non-null entries).\n",
        "\n",
        "Drop the 'homepage' column, as it contains URL data that may not be necessary for analysis.\n",
        "\n",
        "Drop 'backdrop_path' and 'poster_path' columns, as they contain image path references that may not be useful in this context.\n",
        "\n",
        "Drop the 'created_by' column, as it has 78% missing data (only 13,400 non-null entries).\n",
        "\n",
        "\n",
        "\n"
      ],
      "metadata": {
        "id": "NdU3tcNa5X8r"
      }
    },
    {
      "cell_type": "code",
      "source": [
        "df = df.drop(columns=['spoken_languages','original_language','original_name','production_countries','tagline','homepage','backdrop_path', 'poster_path','created_by'])"
      ],
      "metadata": {
        "id": "0WBR-fAf5XAk"
      },
      "execution_count": null,
      "outputs": []
    },
    {
      "cell_type": "markdown",
      "metadata": {
        "id": "bzZL8DhKU21v"
      },
      "source": [
        "\n",
        "#Split the \"overview\" column and 'id into a new dataframe df_overview\n",
        "After performing Exploratory Data Analysis (EDA), feature engineering will be carried out on the text data using a word cloud to detect the most important words. This process will help identify key terms and frequently occurring words in the \"overview\" section for further analysis.\n",
        "\n",
        "The new dummy columns created for these key terms will then be merged back into the original dataframe, df, based on the common column id. This ensures that the features from the \"overview\" text are added to the original dataset for subsequent analysis.\n",
        "\n",
        "\n",
        "\n"
      ]
    },
    {
      "cell_type": "code",
      "execution_count": null,
      "metadata": {
        "colab": {
          "base_uri": "https://localhost:8080/"
        },
        "id": "jnm4disU888Y",
        "outputId": "2676c808-e378-4d87-fe45-41d7e5f07afe"
      },
      "outputs": [
        {
          "output_type": "stream",
          "name": "stdout",
          "text": [
            "<class 'pandas.core.frame.DataFrame'>\n",
            "Index: 59504 entries, 1 to 168636\n",
            "Data columns (total 56 columns):\n",
            " #   Column                        Non-Null Count  Dtype         \n",
            "---  ------                        --------------  -----         \n",
            " 0   id                            59504 non-null  int64         \n",
            " 1   name                          59504 non-null  object        \n",
            " 2   number_of_seasons             59504 non-null  int64         \n",
            " 3   number_of_episodes            59504 non-null  int64         \n",
            " 4   vote_count                    59504 non-null  int64         \n",
            " 5   vote_average                  59504 non-null  float64       \n",
            " 6   adult                         59504 non-null  bool          \n",
            " 7   first_air_date                59504 non-null  datetime64[ns]\n",
            " 8   last_air_date                 58791 non-null  datetime64[ns]\n",
            " 9   in_production                 59504 non-null  bool          \n",
            " 10  popularity                    59504 non-null  float64       \n",
            " 11  type                          59504 non-null  object        \n",
            " 12  status                        59504 non-null  object        \n",
            " 13  genres                        59504 non-null  object        \n",
            " 14  languages                     59504 non-null  object        \n",
            " 15  networks                      59504 non-null  object        \n",
            " 16  origin_country                51298 non-null  object        \n",
            " 17  production_companies          26243 non-null  object        \n",
            " 18  episode_run_time              59504 non-null  int64         \n",
            " 19  languages_count               59504 non-null  int64         \n",
            " 20  en                            59504 non-null  int64         \n",
            " 21  zh                            59504 non-null  int64         \n",
            " 22  ja                            59504 non-null  int64         \n",
            " 23  fr                            59504 non-null  int64         \n",
            " 24  ko                            59504 non-null  int64         \n",
            " 25  de                            59504 non-null  int64         \n",
            " 26  es                            59504 non-null  int64         \n",
            " 27  nl                            59504 non-null  int64         \n",
            " 28  pt                            59504 non-null  int64         \n",
            " 29  hi                            59504 non-null  int64         \n",
            " 30  networks_count                59504 non-null  int64         \n",
            " 31  netflix                       59504 non-null  int64         \n",
            " 32  youtube                       59504 non-null  int64         \n",
            " 33  iqiyi                         59504 non-null  int64         \n",
            " 34  tencent video                 59504 non-null  int64         \n",
            " 35  prime video                   59504 non-null  int64         \n",
            " 36  youku                         59504 non-null  int64         \n",
            " 37  tokyo mx                      59504 non-null  int64         \n",
            " 38  channel 4                     59504 non-null  int64         \n",
            " 39  bbc two                       59504 non-null  int64         \n",
            " 40  channel 5                     59504 non-null  int64         \n",
            " 41  action & adventure            59504 non-null  int64         \n",
            " 42  animation                     59504 non-null  int64         \n",
            " 43  comedy                        59504 non-null  int64         \n",
            " 44  crime                         59504 non-null  int64         \n",
            " 45  documentary                   59504 non-null  int64         \n",
            " 46  drama                         59504 non-null  int64         \n",
            " 47  family                        59504 non-null  int64         \n",
            " 48  kids                          59504 non-null  int64         \n",
            " 49  mystery                       59504 non-null  int64         \n",
            " 50  reality                       59504 non-null  int64         \n",
            " 51  sci-fi & fantasy              59504 non-null  int64         \n",
            " 52  soap                          59504 non-null  int64         \n",
            " 53  talk                          59504 non-null  int64         \n",
            " 54  war & politics & news         59504 non-null  int64         \n",
            " 55  action & adventure & western  59504 non-null  int64         \n",
            "dtypes: bool(2), datetime64[ns](2), float64(2), int64(42), object(8)\n",
            "memory usage: 25.1+ MB\n"
          ]
        }
      ],
      "source": [
        "# Extract 'overview' column to a new DataFrame\n",
        "df_overview = df[['overview','id']]\n",
        "\n",
        "# Drop the columns 'overview' from the original DataFrame\n",
        "df = df.drop(columns=['overview'])\n",
        "\n",
        "# Display the information of the modified DataFrame\n",
        "df.info()\n"
      ]
    },
    {
      "cell_type": "code",
      "source": [
        "df_overview.info()"
      ],
      "metadata": {
        "colab": {
          "base_uri": "https://localhost:8080/"
        },
        "id": "ZDJdSMHMvqks",
        "outputId": "803e26b1-a499-4499-88db-aa88f3cc49bf"
      },
      "execution_count": null,
      "outputs": [
        {
          "output_type": "stream",
          "name": "stdout",
          "text": [
            "<class 'pandas.core.frame.DataFrame'>\n",
            "Index: 59504 entries, 1 to 168636\n",
            "Data columns (total 2 columns):\n",
            " #   Column    Non-Null Count  Dtype \n",
            "---  ------    --------------  ----- \n",
            " 0   overview  34014 non-null  object\n",
            " 1   id        59504 non-null  int64 \n",
            "dtypes: int64(1), object(1)\n",
            "memory usage: 1.4+ MB\n"
          ]
        }
      ]
    },
    {
      "cell_type": "code",
      "source": [
        "\n",
        "# Save df_overview as a pickle file\n",
        "df_overview.to_pickle('df_overview.pkl')\n",
        "\n"
      ],
      "metadata": {
        "id": "fo3DTWWvkl2X"
      },
      "execution_count": null,
      "outputs": []
    },
    {
      "cell_type": "code",
      "execution_count": null,
      "metadata": {
        "colab": {
          "base_uri": "https://localhost:8080/"
        },
        "id": "Uidf8hXw4TlU",
        "outputId": "528ac160-eff4-47f3-dc16-ce2d4e2549d2"
      },
      "outputs": [
        {
          "output_type": "execute_result",
          "data": {
            "text/plain": [
              "(59504, 56)"
            ]
          },
          "metadata": {},
          "execution_count": 117
        }
      ],
      "source": [
        "df.shape"
      ]
    },
    {
      "cell_type": "code",
      "source": [
        "# Save the cleaned DataFrame to a pickle file\n",
        "df.to_pickle('cleaned2_data.pkl')"
      ],
      "metadata": {
        "id": "cp84NPbwuNEm"
      },
      "execution_count": null,
      "outputs": []
    }
  ]
}